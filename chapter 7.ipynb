{
 "cells": [
  {
   "cell_type": "markdown",
   "id": "ambient-eclipse",
   "metadata": {},
   "source": [
    "# canny 에지 검출"
   ]
  },
  {
   "cell_type": "code",
   "execution_count": 1,
   "id": "widespread-biology",
   "metadata": {},
   "outputs": [],
   "source": [
    "import cv2\n",
    "import numpy as np\n",
    "\n",
    "src = cv2.imread('/Users/yongchanchun/Desktop/데스크탑 - MacBook Pro/computer vision/lena.png', cv2.IMREAD_GRAYSCALE)\n",
    "\n",
    "edges1 = cv2.Canny(src, 50, 100)\n",
    "edges2 = cv2.Canny(src, 100, 200)\n",
    "\n",
    "cv2.imshow('edges1',edges1)\n",
    "cv2.imshow('edges2',edges2)\n",
    "cv2.waitKey()\n",
    "cv2.destroyAllWindows()"
   ]
  },
  {
   "cell_type": "code",
   "execution_count": null,
   "id": "ethical-bridal",
   "metadata": {},
   "outputs": [],
   "source": []
  }
 ],
 "metadata": {
  "kernelspec": {
   "display_name": "Python 3",
   "language": "python",
   "name": "python3"
  },
  "language_info": {
   "codemirror_mode": {
    "name": "ipython",
    "version": 3
   },
   "file_extension": ".py",
   "mimetype": "text/x-python",
   "name": "python",
   "nbconvert_exporter": "python",
   "pygments_lexer": "ipython3",
   "version": "3.8.5"
  }
 },
 "nbformat": 4,
 "nbformat_minor": 5
}
