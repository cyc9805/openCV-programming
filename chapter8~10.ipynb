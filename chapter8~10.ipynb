{
 "cells": [
  {
   "cell_type": "markdown",
   "id": "finnish-teach",
   "metadata": {},
   "source": [
    "# 코너점 검출"
   ]
  },
  {
   "cell_type": "code",
   "execution_count": 2,
   "id": "chronic-miracle",
   "metadata": {},
   "outputs": [
    {
     "name": "stdout",
     "output_type": "stream",
     "text": [
      "corners.shape= (8, 2)\n"
     ]
    }
   ],
   "source": [
    "import cv2\n",
    "import numpy as np\n",
    "\n",
    "def findLocalMaxima(src):\n",
    "    kernel = cv2.getStructuringElement(shape=cv2.MORPH_RECT,ksize=(11,11))\n",
    "    dilate = cv2.dilate(src,kernel)\n",
    "    localMax = (src==dilate)\n",
    "    \n",
    "    erode = cv2.erode(src,kernel)\n",
    "    localMax2 = src>erode\n",
    "    localMax &= localMax2\n",
    "    points = np.argwhere(localMax == True)\n",
    "    points[:,[0,1]] = points[:,[1,0]]\n",
    "    return points\n",
    "\n",
    "src = cv2.imread('./data/CornerTest.jpg')\n",
    "gray = cv2.cvtColor(src,cv2.COLOR_BGR2GRAY)\n",
    "res = cv2.preCornerDetect(gray,ksize=3)\n",
    "ret,res2 = cv2.threshold(np.abs(res),0.1,0,cv2.THRESH_TOZERO)\n",
    "\n",
    "corners = findLocalMaxima(res2)\n",
    "print('corners.shape=',corners.shape)\n",
    "\n",
    "dst = src.copy()\n",
    "for x,y in corners:\n",
    "    cv2.circle(dst,(x,y),5,(0,0,255),2)\n",
    "    \n",
    "cv2.imshow('dst', dst)\n",
    "cv2.waitKey()\n",
    "cv2.destroyAllWindows()"
   ]
  },
  {
   "cell_type": "code",
   "execution_count": 2,
   "id": "violent-lambda",
   "metadata": {},
   "outputs": [
    {
     "name": "stdout",
     "output_type": "stream",
     "text": [
      "res.shape= (512, 512, 6)\n",
      "len(corners=) 8\n"
     ]
    }
   ],
   "source": [
    "src = cv2.imread('./data/CornerTest.jpg')\n",
    "gray = cv2.cvtColor(src,cv2.COLOR_BGR2GRAY)\n",
    "\n",
    "res = cv2.cornerEigenValsAndVecs(gray,blockSize=5,ksize=3)\n",
    "print('res.shape=',res.shape)\n",
    "eigen = cv2.split(res)\n",
    "\n",
    "T = 0.2\n",
    "ret,edge = cv2.threshold(eigen[0],T,255,cv2.THRESH_BINARY)\n",
    "edge = edge.astype(np.uint8)\n",
    "\n",
    "corners = np.argwhere(eigen[1]>T)\n",
    "corners[:,[0,1]] = corners[:,[1,0]]\n",
    "print('len(corners=)',len(corners))\n",
    "\n",
    "dst = src.copy()\n",
    "for x,y in corners:\n",
    "    cv2.circle(dst,(x,y),5,(0,0,255),2)\n",
    " \n",
    "cv2.imshow('edge', edge)\n",
    "cv2.imshow('dst', dst)\n",
    "cv2.waitKey()\n",
    "cv2.destroyAllWindows()\n",
    "    "
   ]
  },
  {
   "cell_type": "code",
   "execution_count": 3,
   "id": "dangerous-survivor",
   "metadata": {},
   "outputs": [
    {
     "name": "stdout",
     "output_type": "stream",
     "text": [
      "eigen.shape= (512, 512)\n",
      "len(corners)= 8\n"
     ]
    }
   ],
   "source": [
    "src = cv2.imread('./data/CornerTest.jpg')\n",
    "gray = cv2.cvtColor(src,cv2.COLOR_BGR2GRAY)\n",
    "\n",
    "eigen = cv2.cornerMinEigenVal(gray,blockSize=5)\n",
    "print('eigen.shape=',eigen.shape)\n",
    "\n",
    "T = 0.2\n",
    "corners = np.argwhere(eigen > T)\n",
    "corners[:,[0,1]] = corners[:,[1,0]]\n",
    "print('len(corners)=',len(corners))\n",
    "dst = src.copy()\n",
    "\n",
    "for x,y, in corners:\n",
    "    cv2.circle(dst,(x,y),3,(0,0,255),2)\n",
    "\n",
    "cv2.imshow('dst', dst)\n",
    "cv2.waitKey()\n",
    "cv2.destroyAllWindows()    "
   ]
  },
  {
   "cell_type": "code",
   "execution_count": 7,
   "id": "liberal-international",
   "metadata": {},
   "outputs": [
    {
     "name": "stdout",
     "output_type": "stream",
     "text": [
      "corners= [[101 101]\n",
      " [249 101]\n",
      " [252 168]\n",
      " [349 171]\n",
      " [101 249]\n",
      " [248 252]\n",
      " [251 349]\n",
      " [349 349]]\n",
      "corners2 [[ 99.55941  99.5577 ]\n",
      " [250.44127  99.5592 ]\n",
      " [250.5585  169.43939]\n",
      " [350.43945 169.56058]\n",
      " [ 99.55909 250.43958]\n",
      " [249.43884 250.55685]\n",
      " [249.56105 350.4409 ]\n",
      " [350.44147 350.44037]]\n"
     ]
    }
   ],
   "source": [
    "def findLocalMaxima(src):\n",
    "    kernel = cv2.getStructuringElement(shape=cv2.MORPH_RECT,ksize=(11,11))\n",
    "    dilate = cv2.dilate(src,kernel)\n",
    "    localMax = (src==dilate)\n",
    "    \n",
    "    erode = cv2.erode(src,kernel)\n",
    "    localMax2 = src>erode\n",
    "    localMax &= localMax2\n",
    "    points = np.argwhere(localMax == True)\n",
    "    points[:,[0,1]] = points[:,[1,0]]\n",
    "    return points\n",
    "\n",
    "src = cv2.imread('./data/CornerTest.jpg')\n",
    "gray = cv2.cvtColor(src,cv2.COLOR_BGR2GRAY)\n",
    "res = cv2.cornerHarris(gray,blockSize=5,ksize=3,k=0.01)\n",
    "ret,res = cv2.threshold(np.abs(res),0.02,0,cv2.THRESH_TOZERO)\n",
    "\n",
    "res8 = cv2.normalize(res,None,0,255,cv2.NORM_MINMAX,dtype=cv2.CV_8U)\n",
    "\n",
    "corners = findLocalMaxima(res)\n",
    "print('corners=',corners)\n",
    "\n",
    "corners = corners.astype(np.float32,order='C')\n",
    "term_crit = (cv2.TERM_CRITERIA_MAX_ITER+cv2.TERM_CRITERIA_EPS,10,0.01)\n",
    "corners2 = cv2.cornerSubPix(gray,corners,(5,5),(-1,-1),term_crit)\n",
    "print('corners2',corners2)\n",
    "\n",
    "dst = src.copy()\n",
    "for x,y in np.int32(corners2):\n",
    "    cv2.circle(dst,(x,y),3,(0,0,255),2)\n",
    "\n",
    "cv2.imshow('res8', res8)    \n",
    "cv2.imshow('dst', dst)\n",
    "cv2.waitKey()\n",
    "cv2.destroyAllWindows()        "
   ]
  },
  {
   "cell_type": "code",
   "execution_count": 11,
   "id": "square-reconstruction",
   "metadata": {},
   "outputs": [
    {
     "name": "stdout",
     "output_type": "stream",
     "text": [
      "corners.shape= (5, 1, 2)\n",
      "corners= [[[350. 350.]]\n",
      "\n",
      " [[250. 350.]]\n",
      "\n",
      " [[249. 251.]]\n",
      "\n",
      " [[100. 100.]]\n",
      "\n",
      " [[100. 250.]]]\n",
      "corners2.shape= (8, 1, 2)\n",
      "corners2= [[[350. 350.]]\n",
      "\n",
      " [[100. 100.]]\n",
      "\n",
      " [[249. 251.]]\n",
      "\n",
      " [[100. 250.]]\n",
      "\n",
      " [[250. 350.]]\n",
      "\n",
      " [[250. 100.]]\n",
      "\n",
      " [[350. 170.]]\n",
      "\n",
      " [[251. 169.]]]\n"
     ]
    }
   ],
   "source": [
    "src = cv2.imread('./data/CornerTest.jpg')\n",
    "gray = cv2.cvtColor(src,cv2.COLOR_BGR2GRAY)\n",
    "\n",
    "K=5\n",
    "corners = cv2.goodFeaturesToTrack(gray,maxCorners=K,qualityLevel=0.05,minDistance=10)\n",
    "print('corners.shape=',corners.shape)\n",
    "print('corners=',corners)\n",
    "\n",
    "K=10\n",
    "corners2 = cv2.goodFeaturesToTrack(gray,maxCorners=K,qualityLevel=0.05,\n",
    "                                   minDistance=10, useHarrisDetector = True, k = 0.04)\n",
    "print('corners2.shape=',corners2.shape)\n",
    "print('corners2=',corners2)\n",
    "\n",
    "dst = src.copy()\n",
    "dst2 = src.copy()\n",
    "corners = corners.reshape(-1,2)\n",
    "for x,y in corners:\n",
    "    cv2.circle(dst,(int(x),int(y)),5,(0,0,255),-1)\n",
    "    \n",
    "corners2 = corners2.reshape(-1,2)\n",
    "for x,y in corners2:\n",
    "    cv2.circle(dst2,(int(x),int(y)),5,(0,0,255),-1)\n",
    "\n",
    "cv2.imshow('dst', dst)\n",
    "cv2.imshow('dst2', dst2)\n",
    "cv2.waitKey()\n",
    "cv2.destroyAllWindows()     "
   ]
  },
  {
   "cell_type": "markdown",
   "id": "important-trading",
   "metadata": {},
   "source": [
    "# 체스보드 패턴 코너점 검출"
   ]
  },
  {
   "cell_type": "code",
   "execution_count": 12,
   "id": "bulgarian-scout",
   "metadata": {},
   "outputs": [
    {
     "name": "stdout",
     "output_type": "stream",
     "text": [
      "corners.shape= (42, 1, 2)\n"
     ]
    }
   ],
   "source": [
    "src = cv2.imread('./data/chessBoard.jpg')\n",
    "gray = cv2.cvtColor(src,cv2.COLOR_BGR2GRAY)\n",
    "\n",
    "# 책에서는 (6,3)\n",
    "patternSize = (7,6)\n",
    "found,corners = cv2.findChessboardCorners(src,patternSize)\n",
    "print('corners.shape=',corners.shape)\n",
    "\n",
    "term_crit = (cv2.TERM_CRITERIA_EPS+cv2.TERM_CRITERIA_MAX_ITER,10,0.01)\n",
    "corners2 = cv2.cornerSubPix(gray,corners,(5,5),(-1,-1),term_crit)\n",
    "\n",
    "dst = src.copy()\n",
    "cv2.drawChessboardCorners(dst,patternSize,corners2,found)\n",
    "\n",
    "cv2.imshow('dst', dst)\n",
    "cv2.waitKey()\n",
    "cv2.destroyAllWindows()  "
   ]
  },
  {
   "cell_type": "code",
   "execution_count": 13,
   "id": "collectible-prerequisite",
   "metadata": {},
   "outputs": [
    {
     "name": "stdout",
     "output_type": "stream",
     "text": [
      "centers.shape= (16, 1, 2)\n"
     ]
    }
   ],
   "source": [
    "src = cv2.imread('./data/circleGrid.jpg')\n",
    "gray = cv2.cvtColor(src,cv2.COLOR_BGR2GRAY)\n",
    "patternSize = (4,4)\n",
    "found,centers = cv2.findCirclesGrid(src,patternSize)\n",
    "print('centers.shape=',centers.shape)\n",
    "\n",
    "term_crit = (cv2.TERM_CRITERIA_EPS+cv2.TERM_CRITERIA_MAX_ITER,10,0.01)\n",
    "centers2 = cv2.cornerSubPix(gray,centers,(5,5),(-1,-1),term_crit)\n",
    "\n",
    "dst = src.copy()\n",
    "cv2.drawChessboardCorners(dst,patternSize,centers2,found)\n",
    "\n",
    "cv2.imshow('dst', dst)\n",
    "cv2.waitKey()\n",
    "cv2.destroyAllWindows()  "
   ]
  },
  {
   "cell_type": "markdown",
   "id": "hired-stockholm",
   "metadata": {},
   "source": [
    "# 모멘트"
   ]
  },
  {
   "cell_type": "code",
   "execution_count": 3,
   "id": "copyrighted-husband",
   "metadata": {},
   "outputs": [
    {
     "name": "stdout",
     "output_type": "stream",
     "text": [
      "m00=41001.0\n",
      "m10=9454225.0\n",
      "m01=8726225.0\n",
      "m20=2397368875.0\n",
      "m11=2119946125.0\n",
      "m02=2023688875.0\n",
      "m30=651249446875.0\n",
      "m21=560532817875.0\n",
      "m12=514587165875.0\n",
      "m03=504399486875.0\n",
      "mu20=217364232.4150629\n",
      "mu11=107807529.58464432\n",
      "mu02=166490203.00114632\n",
      "mu30=-1790368560.1228027\n",
      "mu21=584194816.4979553\n",
      "mu12=2065142657.361374\n",
      "mu03=2830588638.024536\n",
      "nu20=0.1293001961152179\n",
      "nu11=0.06412984584958643\n",
      "nu02=0.09903752636820143\n",
      "nu30=-0.00525964363794542\n",
      "nu21=0.0017162145372477983\n",
      "nu12=0.006066859461883883\n",
      "nu03=0.008315543432356281\n"
     ]
    }
   ],
   "source": [
    "src = cv2.imread('./data/CornerTest.jpg')\n",
    "gray = cv2.cvtColor(src,cv2.COLOR_BGR2GRAY)\n",
    "\n",
    "# 모멘트를 구하기 위해서는 grayscale image를 binary image로 바꾸는 과정이 필요함\n",
    "ret,bimage = cv2.threshold(gray,128,255,cv2.THRESH_BINARY)\n",
    "\n",
    "M = cv2.moments(bimage,True)\n",
    "for key,value in M.items():\n",
    "    print('{}={}'.format(key,value))\n",
    "    \n",
    "cx = int(M['m10']/M['m00'])\n",
    "cy = int(M['m01']/M['m00'])\n",
    "dst = src.copy()\n",
    "cv2.circle(dst,(cx,cy),10,(0,0,255),-1)\n",
    "\n",
    "cv2.imshow('dst', dst)\n",
    "cv2.waitKey()\n",
    "cv2.destroyAllWindows()  "
   ]
  },
  {
   "cell_type": "code",
   "execution_count": 4,
   "id": "extreme-sunday",
   "metadata": {},
   "outputs": [],
   "source": [
    "src = cv2.imread('./data/circle2.jpg')\n",
    "gray = cv2.cvtColor(src,cv2.COLOR_BGR2GRAY)\n",
    "ret,bimage = cv2.threshold(gray,128,255,cv2.THRESH_BINARY_INV)\n",
    "\n",
    "mode = cv2.RETR_EXTERNAL\n",
    "method = cv2.CHAIN_APPROX_SIMPLE\n",
    "contours,hierarchy = cv2.findContours(bimage,mode,method)\n",
    "\n",
    "dst = src.copy()\n",
    "cv2.drawContours(dst,contours,-1,(255,0,0),3)\n",
    "\n",
    "for cnt in contours:\n",
    "    M = cv2.moments(cnt,True)\n",
    "    cx = int(M['m10']/M['m00'])\n",
    "    cy = int(M['m01']/M['m00'])\n",
    "    cv2.circle(dst,(cx,cy),5,(0,0,255),2)\n",
    "    \n",
    "cv2.imshow('dst', dst)\n",
    "cv2.waitKey()\n",
    "cv2.destroyAllWindows()     "
   ]
  },
  {
   "cell_type": "code",
   "execution_count": 5,
   "id": "fleet-billion",
   "metadata": {},
   "outputs": [
    {
     "name": "stdout",
     "output_type": "stream",
     "text": [
      "hu.shape= (7, 1)\n",
      "hu= [[ 2.29512832e-01]\n",
      " [ 1.77264199e-02]\n",
      " [ 5.73565197e-04]\n",
      " [ 1.05422872e-04]\n",
      " [ 9.93149152e-09]\n",
      " [-7.94530682e-07]\n",
      " [-2.39456345e-08]]\n",
      "A= [[ 1.41421356e-01  1.41421356e-01  1.87491761e+02]\n",
      " [-1.41421356e-01  1.41421356e-01  2.44545584e+02]]\n",
      "hu2.shape= (7, 1)\n",
      "hu2= [[ 2.29512832e-01]\n",
      " [ 1.77264199e-02]\n",
      " [ 5.73565197e-04]\n",
      " [ 1.05422872e-04]\n",
      " [ 9.93149152e-09]\n",
      " [-7.94530682e-07]\n",
      " [-2.39456345e-08]]\n",
      "diffSum= 0.0\n"
     ]
    }
   ],
   "source": [
    "# hu 모멘트: 이동, 스케일, 회전에 불변이다.\n",
    "\n",
    "src = cv2.imread('./data/CornerTest.jpg')\n",
    "gray = cv2.cvtColor(src,cv2.COLOR_BGR2GRAY)\n",
    "ret,bimage = cv2.threshold(gray,128,255,cv2.THRESH_BINARY)\n",
    "\n",
    "mode = cv2.RETR_EXTERNAL\n",
    "method = cv2.CHAIN_APPROX_SIMPLE\n",
    "contours,hierarchy = cv2.findContours(bimage,mode,method)\n",
    "\n",
    "dst = src.copy()\n",
    "cnt = contours[0]\n",
    "cv2.drawContours(dst,[cnt],0,(255,0,0),3)\n",
    "\n",
    "M = cv2.moments(cnt)\n",
    "hu = cv2.HuMoments(M)\n",
    "print('hu.shape=',hu.shape)\n",
    "print('hu=',hu)\n",
    "\n",
    "angle = 45.0\n",
    "scale = 0.2\n",
    "cx = int(M['m10']/M['m00'])\n",
    "cy = int(M['m01']/M['m00'])\n",
    "center = (cx,cy)\n",
    "t = (20,30)\n",
    "A = cv2.getRotationMatrix2D(center,angle,scale)\n",
    "A[:,2] +=t\n",
    "print('A=',A)\n",
    "cnt2 = cv2.transform(cnt,A)\n",
    "cv2.drawContours(dst,[cnt2],0,(0,255,0),3)\n",
    "cv2.imshow('dst', dst)\n",
    "\n",
    "M2 = cv2.moments(cnt)\n",
    "hu2 = cv2.HuMoments(M2)\n",
    "print('hu2.shape=',hu2.shape)\n",
    "print('hu2=',hu2)\n",
    "\n",
    "# hu와 hu2의 차이는 거의 없다.\n",
    "diffSum = np.sum(cv2.absdiff(hu,hu2))\n",
    "print('diffSum=',diffSum)\n",
    "\n",
    "cv2.waitKey()\n",
    "cv2.destroyAllWindows()  "
   ]
  },
  {
   "cell_type": "markdown",
   "id": "young-application",
   "metadata": {},
   "source": [
    "# 모양 관련 특징 검출"
   ]
  },
  {
   "cell_type": "code",
   "execution_count": 7,
   "id": "banned-wages",
   "metadata": {},
   "outputs": [
    {
     "name": "stdout",
     "output_type": "stream",
     "text": [
      "len(contorus)= 7\n",
      "maxLength= 2042.1677330732346\n",
      "area= 48305.5\n",
      "box= [[ 76 496]\n",
      " [447  32]\n",
      " [636 183]\n",
      " [265 647]]\n"
     ]
    }
   ],
   "source": [
    "src = cv2.imread('./data/banana.jpg')\n",
    "gray = cv2.cvtColor(src,cv2.COLOR_BGR2GRAY)\n",
    "src = cv2.cvtColor(src,cv2.COLOR_BGR2RGB)\n",
    "ret,bimage = cv2.threshold(gray,220,255,cv2.THRESH_BINARY_INV)\n",
    "bimage = cv2.dilate(bimage,None)\n",
    "cv2.imshow('bImage', bimage)\n",
    "\n",
    "mode = cv2.RETR_EXTERNAL\n",
    "method = cv2.CHAIN_APPROX_SIMPLE\n",
    "contours,hierarchy = cv2.findContours(bimage,mode,method)\n",
    "print('len(contorus)=',len(contours))\n",
    "\n",
    "maxLength=0\n",
    "k=0\n",
    "for i,cnt in enumerate(contours):\n",
    "    perimeter = cv2.arcLength(cnt,closed=True)\n",
    "    if perimeter > maxLength:\n",
    "        maxLength = perimeter\n",
    "        k=i\n",
    "print('maxLength=',maxLength)\n",
    "cnt = contours[k]\n",
    "dst2 = src.copy()\n",
    "cv2.drawContours(dst2, [cnt], 0, (255, 0, 0), 3)\n",
    "cv2.imshow('dst2', dst2)\n",
    "\n",
    "area = cv2.contourArea(cnt)\n",
    "print('area=',area)\n",
    "x,y,width,height = cv2.boundingRect(cnt)\n",
    "dst3 = dst2.copy()\n",
    "cv2.rectangle(dst3,(x,y),(x+width,y+height),(0,0,255),2)\n",
    "cv2.imshow('dst3', dst3)\n",
    "\n",
    "rect = cv2.minAreaRect(cnt)\n",
    "box = cv2.boxPoints(rect)\n",
    "box = np.int32(box)\n",
    "print('box=',box)\n",
    "dst4 = dst2.copy()\n",
    "cv2.drawContours(dst4,[box],0,(0,0,255),2)\n",
    "cv2.imshow('dst4', dst4)\n",
    "\n",
    "(x,y),radius = cv2.minEnclosingCircle(cnt)\n",
    "dst5 = dst2.copy()\n",
    "cv2.circle(dst5,(int(x),int(y)),int(radius),(0,0,255),2)\n",
    "cv2.imshow('dst5', dst5)\n",
    "\n",
    "cv2.waitKey()\n",
    "cv2.destroyAllWindows()  "
   ]
  },
  {
   "cell_type": "code",
   "execution_count": 10,
   "id": "front-berkeley",
   "metadata": {},
   "outputs": [],
   "source": [
    "src = cv2.imread('./data/hand.jpg')\n",
    "hsv = cv2.cvtColor(src,cv2.COLOR_BGR2HSV)\n",
    "lowerb = (0,40,0)\n",
    "upperb = (20,180,255)\n",
    "bimage = cv2.inRange(hsv,lowerb,upperb)\n",
    "cv2.imshow('bimage', bimage)\n",
    "\n",
    "mode = cv2.RETR_EXTERNAL\n",
    "method = cv2.CHAIN_APPROX_SIMPLE\n",
    "contours,hierachy = cv2.findContours(bimage,mode,method)\n",
    "\n",
    "dst = src.copy()\n",
    "cnt = contours[0]\n",
    "cv2.drawContours(dst,[cnt],0,(255,0,0),2)\n",
    "\n",
    "dst2 = dst.copy()\n",
    "rows,cols = dst2.shape[:2]\n",
    "hull = cv2.convexHull(cnt)\n",
    "cv2.drawContours(dst2,[hull],0,(0,0,255),2)\n",
    "\n",
    "cv2.imshow('dst2', dst2)\n",
    "\n",
    "cv2.waitKey()\n",
    "cv2.destroyAllWindows()  "
   ]
  },
  {
   "cell_type": "code",
   "execution_count": 17,
   "id": "premier-rogers",
   "metadata": {},
   "outputs": [
    {
     "ename": "AttributeError",
     "evalue": "'NoneType' object has no attribute 'shape'",
     "output_type": "error",
     "traceback": [
      "\u001b[0;31m---------------------------------------------------------------------------\u001b[0m",
      "\u001b[0;31mAttributeError\u001b[0m                            Traceback (most recent call last)",
      "\u001b[0;32m<ipython-input-17-50b0432614e1>\u001b[0m in \u001b[0;36m<module>\u001b[0;34m\u001b[0m\n\u001b[1;32m     24\u001b[0m \u001b[0;31m# print('defects.shape=',defects.shape)\u001b[0m\u001b[0;34m\u001b[0m\u001b[0;34m\u001b[0m\u001b[0;34m\u001b[0m\u001b[0m\n\u001b[1;32m     25\u001b[0m \u001b[0;34m\u001b[0m\u001b[0m\n\u001b[0;32m---> 26\u001b[0;31m \u001b[0;32mfor\u001b[0m \u001b[0mi\u001b[0m \u001b[0;32min\u001b[0m \u001b[0mrange\u001b[0m\u001b[0;34m(\u001b[0m\u001b[0mdefects\u001b[0m\u001b[0;34m.\u001b[0m\u001b[0mshape\u001b[0m\u001b[0;34m[\u001b[0m\u001b[0;36m0\u001b[0m\u001b[0;34m]\u001b[0m\u001b[0;34m)\u001b[0m\u001b[0;34m:\u001b[0m\u001b[0;34m\u001b[0m\u001b[0;34m\u001b[0m\u001b[0m\n\u001b[0m\u001b[1;32m     27\u001b[0m     \u001b[0ms\u001b[0m\u001b[0;34m,\u001b[0m\u001b[0me\u001b[0m\u001b[0;34m,\u001b[0m\u001b[0mf\u001b[0m\u001b[0;34m,\u001b[0m\u001b[0md\u001b[0m \u001b[0;34m=\u001b[0m \u001b[0mdefects\u001b[0m\u001b[0;34m[\u001b[0m\u001b[0mi\u001b[0m\u001b[0;34m,\u001b[0m\u001b[0;36m0\u001b[0m\u001b[0;34m]\u001b[0m\u001b[0;34m\u001b[0m\u001b[0;34m\u001b[0m\u001b[0m\n\u001b[1;32m     28\u001b[0m     \u001b[0mdist\u001b[0m \u001b[0;34m=\u001b[0m \u001b[0md\u001b[0m\u001b[0;34m/\u001b[0m\u001b[0;36m256\u001b[0m\u001b[0;34m\u001b[0m\u001b[0;34m\u001b[0m\u001b[0m\n",
      "\u001b[0;31mAttributeError\u001b[0m: 'NoneType' object has no attribute 'shape'"
     ]
    }
   ],
   "source": [
    "src = cv2.imread('/Users/yongchanchun/Desktop/데스크탑 - MacBook Pro/computer vision/data/hand.jpg')\n",
    "hsv = cv2.cvtColor(src,cv2.COLOR_BGR2HSV)\n",
    "lowerb = (0,40,0)\n",
    "upperb = (20,180,255)\n",
    "bimage = cv2.inRange(hsv,lowerb,upperb)\n",
    "cv2.imshow('bimage', bimage)\n",
    "\n",
    "mode = cv2.RETR_EXTERNAL\n",
    "method = cv2.CHAIN_APPROX_SIMPLE\n",
    "contours,hierachy = cv2.findContours(bimage,mode,method)\n",
    "\n",
    "dst = src.copy()\n",
    "cnt = contours[0]\n",
    "cv2.drawContours(dst,[cnt],0,(255,0,0),2)\n",
    "\n",
    "dst2 = dst.copy()\n",
    "rows,cols = dst2.shape[:2]\n",
    "hull = cv2.convexHull(cnt, returnPoints = False)\n",
    "hull_points = cnt[hull[:,0]]\n",
    "cv2.drawContours(dst2,[hull_points],0,(255,0,255),6)\n",
    "\n",
    "T = 5\n",
    "defects = cv2.convexityDefects(cnt,hull)\n",
    "# print('defects.shape=',defects.shape)\n",
    "\n",
    "for i in range(defects.shape[0]):\n",
    "    s,e,f,d = defects[i,0]\n",
    "    dist = d/256\n",
    "    start = tuple(cnt[s][0])\n",
    "    end = tuple(cnt[e][0])\n",
    "    far = tuple(cnt[f][0])\n",
    "    \n",
    "    if dist> T:\n",
    "        cv2.line(dst2,start,end,[255,255,0],2)\n",
    "        cv2.line(dst2,start,far,[255,255,0],1)\n",
    "        cv2.line(dst2,end,far,[255,255,0],1)\n",
    "        \n",
    "        cv2.circle(dst2,start,5,[0,255,255],-1)\n",
    "        cv2.circle(dst2,end,5,[0,128,255],-1)\n",
    "        cv2.circle(dst2,far,5,[0,0,255],-1)\n",
    " \n",
    "\n",
    "cv2.imshow('dst2', dst2)\n",
    "\n",
    "cv2.waitKey()\n",
    "cv2.destroyAllWindows()         "
   ]
  },
  {
   "cell_type": "markdown",
   "id": "preceding-activity",
   "metadata": {},
   "source": [
    "# 모양 매칭"
   ]
  },
  {
   "cell_type": "code",
   "execution_count": 31,
   "id": "actual-factory",
   "metadata": {},
   "outputs": [],
   "source": [
    "ref_src = cv2.imread('./data/refShapes1.jpg')\n",
    "ref_gray = cv2.cvtColor(ref_src,cv2.COLOR_BGR2GRAY)\n",
    "ret,ref_bin = cv2.threshold(ref_gray,0,255,cv2.THRESH_BINARY_INV+cv2.THRESH_OTSU)\n",
    "\n",
    "test_src = cv2.imread('./data/refShapes.jpg')\n",
    "test_gray = cv2.cvtColor(test_src,cv2.COLOR_BGR2GRAY)\n",
    "ret,test_bin = cv2.threshold(test_gray,0,255,cv2.THRESH_BINARY_INV+cv2.THRESH_OTSU)\n",
    "\n",
    "mode = cv2.RETR_EXTERNAL\n",
    "method = cv2.CHAIN_APPROX_SIMPLE\n",
    "ref_contours,_ = cv2.findContours(ref_bin,mode,method)\n",
    "test_contours,_ = cv2.findContours(test_bin1,mode,method)\n",
    "\n",
    "ref_dst = ref_src.copy()\n",
    "colors = ((0, 0, 255), (0, 255, 0), (255, 0, 0))\n",
    "for i, cnt in enumerate(ref_contours):\n",
    "    cv2.drawContours(ref_dst, [cnt], 0, colors[i], 2)\n",
    "\n",
    "test_dst = test_src.copy()\n",
    "method = cv2.CONTOURS_MATCH_I1\n",
    "for i, cnt1 in enumerate(test_contours):\n",
    "    matches = []\n",
    "    for cnt2 in ref_contours:\n",
    "        ret = cv2.matchShapes(cnt1, cnt2, method, 0)\n",
    "        matches.append(ret)\n",
    "    k = np.argmin(matches)\n",
    "    cv2.drawContours(test_dst, [cnt1], 0, colors[k], 2)\n",
    "\n",
    "cv2.imshow('ref_dst', ref_dst)\n",
    "cv2.imshow('test_dst', test_dst)\n",
    "cv2.waitKey()\n",
    "cv2.destroyAllWindows()   \n"
   ]
  },
  {
   "cell_type": "markdown",
   "id": "celtic-biography",
   "metadata": {},
   "source": [
    "# 적분영상"
   ]
  },
  {
   "cell_type": "code",
   "execution_count": 32,
   "id": "intense-forward",
   "metadata": {},
   "outputs": [
    {
     "name": "stdout",
     "output_type": "stream",
     "text": [
      "A= [[ 1  2  3  4]\n",
      " [ 5  6  7  8]\n",
      " [ 9 10 11 12]\n",
      " [13 14 15 16]]\n",
      "sumA= [[  0   0   0   0   0]\n",
      " [  0   1   3   6  10]\n",
      " [  0   6  14  24  36]\n",
      " [  0  15  33  54  78]\n",
      " [  0  28  60  96 136]]\n",
      "sqsumA= [[0.000e+00 0.000e+00 0.000e+00 0.000e+00 0.000e+00]\n",
      " [0.000e+00 1.000e+00 5.000e+00 1.400e+01 3.000e+01]\n",
      " [0.000e+00 2.600e+01 6.600e+01 1.240e+02 2.040e+02]\n",
      " [0.000e+00 1.070e+02 2.470e+02 4.260e+02 6.500e+02]\n",
      " [0.000e+00 2.760e+02 6.120e+02 1.016e+03 1.496e+03]]\n",
      "tiltedA= [[ 0  0  0  0  0]\n",
      " [ 0  1  2  3  4]\n",
      " [ 1  8 12 16 15]\n",
      " [ 8 26 38 42 36]\n",
      " [26 60 80 84 70]]\n"
     ]
    }
   ],
   "source": [
    "A = np.arange(1,17).reshape(4,4).astype(np.uint8)\n",
    "print('A=',A)\n",
    "\n",
    "sumA,sqsumA,tiltedA = cv2.integral3(A)\n",
    "print('sumA=',sumA)\n",
    "print('sqsumA=',sqsumA)\n",
    "print('tiltedA=',tiltedA)"
   ]
  },
  {
   "cell_type": "code",
   "execution_count": null,
   "id": "destroyed-suicide",
   "metadata": {},
   "outputs": [],
   "source": [
    "gray = cv2.imread('./data/lena.jpg',0)\n",
    "gray_sum = cv2.integral(gray)\n",
    "dst = cv2.normalize(gray_sum,None,0,255,cv2.NORM_MINMAX,dtype=cv2.CV_8U)\n",
    "dst = cv2.cvtColor(dst,cv2.COLOR_BGR2RGB)\n",
    "\n",
    "cv2.imshow('dst',dst)\n",
    "cv2.waitKey()\n",
    "cv2.destroyAllWindows() "
   ]
  },
  {
   "cell_type": "code",
   "execution_count": null,
   "id": "awful-spiritual",
   "metadata": {},
   "outputs": [],
   "source": []
  }
 ],
 "metadata": {
  "kernelspec": {
   "display_name": "Python 3",
   "language": "python",
   "name": "python3"
  },
  "language_info": {
   "codemirror_mode": {
    "name": "ipython",
    "version": 3
   },
   "file_extension": ".py",
   "mimetype": "text/x-python",
   "name": "python",
   "nbconvert_exporter": "python",
   "pygments_lexer": "ipython3",
   "version": "3.8.5"
  }
 },
 "nbformat": 4,
 "nbformat_minor": 5
}
