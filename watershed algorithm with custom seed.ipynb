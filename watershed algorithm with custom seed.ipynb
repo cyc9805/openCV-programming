{
 "cells": [
  {
   "cell_type": "code",
   "execution_count": 1,
   "id": "sustainable-johns",
   "metadata": {},
   "outputs": [],
   "source": [
    "import cv2\n",
    "import matplotlib.pyplot as plt\n",
    "import numpy as np\n",
    "%matplotlib inline\n",
    "path = '/Users/yongchanchun/Desktop/데스크탑 - MacBook Pro/computer vision/Computer vision with python/Computer-Vision-with-Python/DATA/'\n",
    "\n"
   ]
  },
  {
   "cell_type": "code",
   "execution_count": 2,
   "id": "mature-brown",
   "metadata": {},
   "outputs": [],
   "source": [
    "road = cv2.imread(path+'road_image.jpg')\n",
    "road_copy = np.copy(road)\n",
    "plt.imshow(road)"
   ]
  },
  {
   "cell_type": "markdown",
   "id": "constant-jesus",
   "metadata": {},
   "source": [
    "**Create an empty space for the result to be drawn**"
   ]
  },
  {
   "cell_type": "code",
   "execution_count": 3,
   "id": "sacred-recycling",
   "metadata": {},
   "outputs": [],
   "source": [
    "marker_img = np.zeros(road.shape[:2], dtype = np.int32)\n",
    "segments = np.zeros(road.shape,dtype=np.uint8)"
   ]
  },
  {
   "cell_type": "markdown",
   "id": "relevant-theme",
   "metadata": {},
   "source": [
    "**Create colors for Markers**"
   ]
  },
  {
   "cell_type": "code",
   "execution_count": 4,
   "id": "lucky-northwest",
   "metadata": {},
   "outputs": [],
   "source": [
    "from matplotlib import cm"
   ]
  },
  {
   "cell_type": "code",
   "execution_count": 5,
   "id": "curious-assets",
   "metadata": {},
   "outputs": [
    {
     "data": {
      "text/plain": [
       "(0.12156862745098039, 0.4666666666666667, 0.7058823529411765, 1.0)"
      ]
     },
     "execution_count": 5,
     "metadata": {},
     "output_type": "execute_result"
    }
   ],
   "source": [
    "# tab10 creates color in fixed spectrum\n",
    "cm.tab10(0)"
   ]
  },
  {
   "cell_type": "code",
   "execution_count": 6,
   "id": "endangered-prediction",
   "metadata": {},
   "outputs": [
    {
     "data": {
      "text/plain": [
       "array([ 31., 119., 180.])"
      ]
     },
     "execution_count": 6,
     "metadata": {},
     "output_type": "execute_result"
    }
   ],
   "source": [
    "np.array(cm.tab10(0))[:3]*255"
   ]
  },
  {
   "cell_type": "code",
   "execution_count": 7,
   "id": "dynamic-conditions",
   "metadata": {},
   "outputs": [
    {
     "data": {
      "text/plain": [
       "array([ 31, 119, 180])"
      ]
     },
     "execution_count": 7,
     "metadata": {},
     "output_type": "execute_result"
    }
   ],
   "source": [
    "x=np.array(cm.tab10(0))[:3]*255\n",
    "x.astype(int)"
   ]
  },
  {
   "cell_type": "code",
   "execution_count": 8,
   "id": "moral-direction",
   "metadata": {},
   "outputs": [
    {
     "data": {
      "text/plain": [
       "(31, 119, 180)"
      ]
     },
     "execution_count": 8,
     "metadata": {},
     "output_type": "execute_result"
    }
   ],
   "source": [
    "tuple(x.astype(int))"
   ]
  },
  {
   "cell_type": "markdown",
   "id": "large-steal",
   "metadata": {},
   "source": [
    "**Create all the color set in tab10** "
   ]
  },
  {
   "cell_type": "code",
   "execution_count": 22,
   "id": "forward-budget",
   "metadata": {},
   "outputs": [],
   "source": [
    "def create_rgb(i):\n",
    "    x = np.array(cm.tab10(i))[:3]*255\n",
    "    return tuple(x)"
   ]
  },
  {
   "cell_type": "code",
   "execution_count": 26,
   "id": "innocent-landing",
   "metadata": {},
   "outputs": [],
   "source": [
    "colors = []\n",
    "for i in range(10):\n",
    "    colors.append(create_rgb(i))"
   ]
  },
  {
   "cell_type": "code",
   "execution_count": 27,
   "id": "reflected-attribute",
   "metadata": {},
   "outputs": [
    {
     "data": {
      "text/plain": [
       "[(31.0, 119.0, 180.0),\n",
       " (255.0, 127.0, 14.0),\n",
       " (44.0, 160.0, 44.0),\n",
       " (214.0, 39.0, 40.0),\n",
       " (148.0, 103.0, 189.0),\n",
       " (140.0, 86.0, 75.0),\n",
       " (227.0, 119.0, 194.0),\n",
       " (127.0, 127.0, 127.0),\n",
       " (188.0, 189.0, 34.0),\n",
       " (23.0, 190.0, 207.0)]"
      ]
     },
     "execution_count": 27,
     "metadata": {},
     "output_type": "execute_result"
    }
   ],
   "source": [
    "colors"
   ]
  },
  {
   "cell_type": "markdown",
   "id": "connected-eleven",
   "metadata": {},
   "source": [
    "**Setting Up Callback Function**"
   ]
  },
  {
   "cell_type": "code",
   "execution_count": 28,
   "id": "bottom-liverpool",
   "metadata": {},
   "outputs": [],
   "source": [
    "n_markers = 10"
   ]
  },
  {
   "cell_type": "code",
   "execution_count": 29,
   "id": "supreme-boost",
   "metadata": {},
   "outputs": [],
   "source": [
    "# default settings \n",
    "current_marker = 1\n",
    "marks_updated = False"
   ]
  },
  {
   "cell_type": "code",
   "execution_count": 34,
   "id": "limiting-freedom",
   "metadata": {},
   "outputs": [],
   "source": [
    "def mouse_callback(event, x, y, flags, param):\n",
    "    global marks_updated\n",
    "    \n",
    "    if event == cv2.EVENT_LBUTTONDOWN:\n",
    "        cv2.circle(marker_img, (x,y), 10, (current_marker), -1)\n",
    "        cv2.circle(road_copy, (x, y), 10, colors[current_marker], -1)\n",
    "        marks_updated = True\n",
    "\n",
    "cv2.namedWindow('Road Image')\n",
    "cv2.setMouseCallback('Road Image', mouse_callback)\n",
    "\n",
    "while True:\n",
    "    \n",
    "    cv2.imshow('WaterShed Segments', segments)\n",
    "    cv2.imshow('Road Image', road_copy)\n",
    "        \n",
    "    # Waitkey(1) waits for keyboard input\n",
    "    k = cv2.waitKey(1)\n",
    "\n",
    "    if k == 27:\n",
    "        break\n",
    "        \n",
    "    # Clear all colors and start over if 'c' is pressed\n",
    "    elif k == ord('c'):\n",
    "        road_copy = road.copy()\n",
    "        marker_img = np.zeros(road.shape[0:2], dtype=np.int32)\n",
    "        segments = np.zeros(road.shape,dtype=np.uint8)\n",
    "        \n",
    "    # If a number 0-9 is chosen index the color\n",
    "    elif k > 0 and chr(k).isdigit():\n",
    "        \n",
    "        current_marker  = int(chr(k))\n",
    "\n",
    "    # If we clicked somewhere, call the watershed algorithm on our chosen markers\n",
    "    if marks_updated:\n",
    "        \n",
    "        marker_img_copy = marker_img.copy()\n",
    "        cv2.watershed(road, marker_img_copy)\n",
    "        \n",
    "        segments = np.zeros(road.shape,dtype=np.uint8)\n",
    "        \n",
    "        for color_ind in range(n_markers):\n",
    "            segments[marker_img_copy == (color_ind)] = color[color_ind]\n",
    "        \n",
    "        marks_updated = False\n",
    "        \n",
    "cv2.destroyAllWindows()\n"
   ]
  },
  {
   "cell_type": "code",
   "execution_count": null,
   "id": "cathedral-philadelphia",
   "metadata": {},
   "outputs": [],
   "source": []
  }
 ],
 "metadata": {
  "kernelspec": {
   "display_name": "Python 3",
   "language": "python",
   "name": "python3"
  },
  "language_info": {
   "codemirror_mode": {
    "name": "ipython",
    "version": 3
   },
   "file_extension": ".py",
   "mimetype": "text/x-python",
   "name": "python",
   "nbconvert_exporter": "python",
   "pygments_lexer": "ipython3",
   "version": "3.8.5"
  }
 },
 "nbformat": 4,
 "nbformat_minor": 5
}
