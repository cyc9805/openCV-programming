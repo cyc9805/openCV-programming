{
 "cells": [
  {
   "cell_type": "markdown",
   "id": "hairy-judge",
   "metadata": {},
   "source": [
    "# 임계값 영상"
   ]
  },
  {
   "cell_type": "code",
   "execution_count": 12,
   "id": "seventh-patent",
   "metadata": {},
   "outputs": [
    {
     "name": "stdout",
     "output_type": "stream",
     "text": [
      "ret: 84.0\n"
     ]
    }
   ],
   "source": [
    "import cv2\n",
    "import numpy as np\n",
    "\n",
    "src = cv2.imread('/Users/yongchanchun/Desktop/데스크탑 - MacBook Pro/computer vision/srcThreshold.png', cv2.IMREAD_GRAYSCALE)\n",
    "cv2.imshow('src', src)\n",
    "\n",
    "ret, dst = cv2.threshold(src,0,255,cv2.THRESH_BINARY + cv2.THRESH_OTSU)\n",
    "print('ret:', ret)\n",
    "cv2.imshow('dst', dst)\n",
    "\n",
    "dst2 = cv2.adaptiveThreshold(src, 255, cv2.ADAPTIVE_THRESH_MEAN_C, cv2.THRESH_BINARY, 51, 7)\n",
    "cv2.imshow('dst2', dst2)\n",
    "\n",
    "dst3 = cv2.adaptiveThreshold(src, 255, cv2.ADAPTIVE_THRESH_GAUSSIAN_C, cv2.THRESH_BINARY, 51, 7)\n",
    "cv2.imshow('dst3', dst3)\n",
    "cv2.waitKey()\n",
    "cv2.destroyAllWindows()"
   ]
  },
  {
   "cell_type": "markdown",
   "id": "centered-staff",
   "metadata": {},
   "source": [
    "# 히스토그램 역투영"
   ]
  },
  {
   "cell_type": "code",
   "execution_count": 16,
   "id": "reverse-newsletter",
   "metadata": {},
   "outputs": [
    {
     "name": "stdout",
     "output_type": "stream",
     "text": [
      "roi= (195, 188, 130, 81)\n",
      "T= 1316.0\n"
     ]
    }
   ],
   "source": [
    "src = cv2.imread('/Users/yongchanchun/Desktop/데스크탑 - MacBook Pro/computer vision/lena.png')\n",
    "hsv = cv2.cvtColor(src, cv2.COLOR_BGR2HSV)\n",
    "h, s, v = cv2.split(hsv)\n",
    "\n",
    "roi = cv2.selectROI(src)\n",
    "print('roi=',roi)\n",
    "roi_h = h[roi[1]:roi[1] + roi[3], roi[0]:roi[0] + roi[2]]\n",
    "hist = cv2.calcHist([roi_h],[0],None,[64],[0,256])\n",
    "backP = cv2.calcBackProject([h.astype(np.float32)], [0], hist, [0,256], scale = 1.0)\n",
    "\n",
    "hist = cv2.sort(hist, cv2.SORT_EVERY_COLUMN+cv2.SORT_DESCENDING)\n",
    "k = 1\n",
    "T = hist[k][0] - 1\n",
    "print('T=',T)\n",
    "ret, dst = cv2.threshold(backP, T, 255, cv2.THRESH_BINARY)\n",
    "\n",
    "cv2.imshow('dst',dst)\n",
    "cv2.waitKey()\n",
    "cv2.destroyAllWindows()"
   ]
  },
  {
   "cell_type": "markdown",
   "id": "willing-device",
   "metadata": {},
   "source": [
    "# 히스토그램 평활화"
   ]
  },
  {
   "cell_type": "code",
   "execution_count": 23,
   "id": "flush-speaking",
   "metadata": {},
   "outputs": [],
   "source": [
    "src = cv2.imread('/Users/yongchanchun/Desktop/데스크탑 - MacBook Pro/computer vision/lena.png')\n",
    "\n",
    "hsv = cv2.cvtColor(src, cv2.COLOR_BGR2HSV)\n",
    "h, s, v = cv2.split(hsv)\n",
    "\n",
    "v2 = cv2.equalizeHist(v)\n",
    "hsv2 = cv2.merge([h,s,v2])\n",
    "dst = cv2.cvtColor(hsv2, cv2.COLOR_HSV2BGR)\n",
    "cv2.imshow('dst', dst)\n",
    "\n",
    "yCrCv = cv2.cvtColor(src, cv2.COLOR_BGR2YCrCb)\n",
    "y, Cr, Cv = cv2.split(yCrCv)\n",
    "\n",
    "y2 = cv2.equalizeHist(y)\n",
    "yCrCv2 = cv2.merge([y2, Cr, Cv])\n",
    "dst2 = cv2.cvtColor(yCrCv2, cv2.COLOR_YCrCb2BGR)\n",
    "\n",
    "cv2.imshow('dst2',dst2)\n",
    "cv2.waitKey()\n",
    "cv2.destroyAllWindows()"
   ]
  },
  {
   "cell_type": "code",
   "execution_count": 33,
   "id": "visible-founder",
   "metadata": {},
   "outputs": [],
   "source": [
    "src = cv2.imread('/Users/yongchanchun/Desktop/데스크탑 - MacBook Pro/computer vision/tsukuba_l.png', cv2.IMREAD_GRAYSCALE)\n",
    "cv2.imshow('src',src)\n",
    "\n",
    "# 일반 히스토그램 평활화\n",
    "dst = cv2.equalizeHist(src)\n",
    "cv2.imshow('dst',dst)\n",
    "\n",
    "# clahe 평탄화\n",
    "clahe2 = cv2.createCLAHE(clipLimit=40, tileGridSize=(1,1))\n",
    "dst2 = clahe2.apply(src)\n",
    "cv2.imshow('dst2',dst2)\n",
    "\n",
    "clahe2 = cv2.createCLAHE(clipLimit=10, tileGridSize=(8,8))\n",
    "dst3 = clahe2.apply(src)\n",
    "cv2.imshow('dst3',dst3)\n",
    "\n",
    "cv2.waitKey()\n",
    "cv2.destroyAllWindows()"
   ]
  },
  {
   "cell_type": "markdown",
   "id": "novel-universe",
   "metadata": {},
   "source": [
    "# 블러 필터"
   ]
  },
  {
   "cell_type": "code",
   "execution_count": 40,
   "id": "declared-herald",
   "metadata": {},
   "outputs": [],
   "source": [
    "import cv2\n",
    "import numpy as np\n",
    "\n",
    "src = cv2.imread('/Users/yongchanchun/Desktop/데스크탑 - MacBook Pro/computer vision/lena.png', cv2.IMREAD_GRAYSCALE)\n",
    "cv2.imshow('src',src)\n",
    "# 박스필터: 영상의 전체를 흐릿하게 만듬\n",
    "dst1 = cv2.boxFilter(src, ddepth = -1, ksize = (11,11))\n",
    "dst2 = cv2.boxFilter(src, ddepth = -1, ksize = (21,21))\n",
    "\n",
    "# bilateralFilter: 가우시안 함수를 사용하여 에지를 덜 약화하면서 양방향 필터링을 함 \n",
    "dst3 = cv2.bilateralFilter(src, d = 11, sigmaColor = 10, sigmaSpace = 10)\n",
    "dst4 = cv2.bilateralFilter(src, d = -1, sigmaColor = 10, sigmaSpace = 10)\n",
    "\n",
    "cv2.imshow('dst1',dst1)\n",
    "cv2.imshow('dst2',dst2)\n",
    "cv2.imshow('dst3',dst3)\n",
    "cv2.imshow('dst4',dst4)\n",
    "\n",
    "cv2.waitKey()\n",
    "cv2.destroyAllWindows()"
   ]
  },
  {
   "cell_type": "code",
   "execution_count": 44,
   "id": "racial-finnish",
   "metadata": {},
   "outputs": [],
   "source": [
    "src = cv2.imread('/Users/yongchanchun/Desktop/데스크탑 - MacBook Pro/computer vision/lena.png', cv2.IMREAD_GRAYSCALE)\n",
    "cv2.imshow('src',src)\n",
    "\n",
    "# 미디안, 가우시안 필터링\n",
    "dst1 = cv2.medianBlur(src, ksize = 7)\n",
    "dst2 = cv2.blur(src, ksize = (7,7))\n",
    "dst3 = cv2.GaussianBlur(src, ksize = (7,7), sigmaX = 0.0)\n",
    "dst4 = cv2.GaussianBlur(src, ksize = (7,7), sigmaX = 10.0)\n",
    "\n",
    "cv2.imshow('dst1',dst1)\n",
    "cv2.imshow('dst2',dst2)\n",
    "cv2.imshow('dst3',dst3)\n",
    "cv2.imshow('dst4',dst4)\n",
    "\n",
    "cv2.waitKey()\n",
    "cv2.destroyAllWindows()"
   ]
  },
  {
   "cell_type": "markdown",
   "id": "passive-fetish",
   "metadata": {},
   "source": [
    "# 미분필터"
   ]
  },
  {
   "cell_type": "code",
   "execution_count": 46,
   "id": "earned-jason",
   "metadata": {},
   "outputs": [
    {
     "name": "stdout",
     "output_type": "stream",
     "text": [
      "mag: 0.0 1080.4674072265625 (0, 0) (100, 400)\n"
     ]
    }
   ],
   "source": [
    "src = cv2.imread('/Users/yongchanchun/Desktop/데스크탑 - MacBook Pro/computer vision/data/rectangle.jpg', cv2.IMREAD_GRAYSCALE)\n",
    "cv2.imshow('src',src)\n",
    "\n",
    "gx = cv2.Sobel(src, cv2.CV_32F, 1, 0, ksize = 3) # x축 편미분 적용\n",
    "gy = cv2.Sobel(src, cv2.CV_32F, 0, 1, ksize = 3) # x축 편미분 적용\n",
    "\n",
    "dstX = cv2.sqrt(np.abs(gx))\n",
    "dstX = cv2.normalize(dstX, None, 0, 255, cv2.NORM_MINMAX, dtype = cv2.CV_8U)\n",
    "\n",
    "dstY = cv2.sqrt(np.abs(gy))\n",
    "dstY = cv2.normalize(dstY, None, 0, 255, cv2.NORM_MINMAX, dtype = cv2.CV_8U)\n",
    "\n",
    "mag = cv2.magnitude(gx, gy)\n",
    "minVal, maxVal, minLoc, maxLoc = cv2.minMaxLoc(mag)\n",
    "print('mag:', minVal, maxVal, minLoc, maxLoc)\n",
    "\n",
    "dstM = cv2.normalize(mag, None, 0, 255, cv2.NORM_MINMAX, dtype = cv2.CV_8U)\n",
    "\n",
    "cv2.imshow('dstX',dstX)\n",
    "cv2.imshow('dstY',dstY)\n",
    "cv2.imshow('dstM',dstM)\n",
    "\n",
    "cv2.waitKey()\n",
    "cv2.destroyAllWindows()"
   ]
  },
  {
   "cell_type": "code",
   "execution_count": 54,
   "id": "laughing-white",
   "metadata": {},
   "outputs": [
    {
     "name": "stdout",
     "output_type": "stream",
     "text": [
      "angle: 0.0 359.94378662109375 (0, 0) (400, 399)\n"
     ]
    }
   ],
   "source": [
    "# 그래디언트 방향 시각화\n",
    "\n",
    "from matplotlib import pyplot as plt\n",
    "\n",
    "src = cv2.imread('/Users/yongchanchun/Desktop/데스크탑 - MacBook Pro/computer vision/data/rectangle.jpg', cv2.IMREAD_GRAYSCALE)\n",
    "cv2.imshow('src',src)\n",
    "\n",
    "gx = cv2.Sobel(src, cv2.CV_32F, 1, 0, ksize = 3) # x축 편미분 적용\n",
    "gy = cv2.Sobel(src, cv2.CV_32F, 0, 1, ksize = 3) # x축 편미분 적용\n",
    "\n",
    "mag, angle = cv2.cartToPolar(gx, gy, angleInDegrees = True)\n",
    "minVal, maxVal, minLoc, maxLoc = cv2.minMaxLoc(angle)\n",
    "print('angle:', minVal, maxVal, minLoc, maxLoc)\n",
    "\n",
    "ret, edge = cv2.threshold(mag, 100, 255, cv2.THRESH_BINARY)\n",
    "edge = edge.astype(np.uint8)\n",
    "cv2.imshow('edge', edge)\n",
    "\n",
    "height, width = mag.shape[:2]\n",
    "angleM = np.full((height, width, 3), (255, 255, 255), dtype = np.uint8)\n",
    "for y in range(height):\n",
    "    for x in range(width):\n",
    "        if edge[x,y] != 0:\n",
    "            if edge[y, x] == 0:\n",
    "                angleM[y, x] = (0, 0, 255)  # red\n",
    "            elif angle[y, x] == 90:\n",
    "                angleM[y, x] = (0, 255, 0)  # green\n",
    "            elif angle[y, x] == 180:\n",
    "                angleM[y ,x] = (255, 0, 0)  # blue\n",
    "            elif angle[y, x] == 270:\n",
    "                angleM[y, x] = (0, 255, 255) # yellow\n",
    "            else:\n",
    "                angleM[y, x] = (128, 128, 128) # gray\n",
    "\n",
    "cv2.imshow('angleM', angleM)\n",
    "cv2.waitKey()\n",
    "cv2.destroyAllWindows()"
   ]
  },
  {
   "cell_type": "code",
   "execution_count": 55,
   "id": "pacific-failing",
   "metadata": {},
   "outputs": [],
   "source": [
    "# Laplacian filter\n",
    "\n",
    "src = cv2.imread('/Users/yongchanchun/Desktop/데스크탑 - MacBook Pro/computer vision/data/lena.jpg', cv2.IMREAD_GRAYSCALE)\n",
    "blur = cv2.GaussianBlur(src, ksize = (7, 7), sigmaX = 0.0)\n",
    "cv2.imshow('src', src)\n",
    "cv2.imshow('blur', blur)\n",
    "\n",
    "lap = cv2.Laplacian(src, cv2.CV_32F)\n",
    "dst = cv2.convertScaleAbs(lap)\n",
    "dst = cv2.normalize(dst, None, 0, 255, cv2.NORM_MINMAX)\n",
    "cv2.imshow('lap', lap)\n",
    "cv2.imshow('dst', dst)\n",
    "\n",
    "lap2 = cv2.Laplacian(blur, cv2.CV_32F)\n",
    "dst2 = cv2.convertScaleAbs(lap2)\n",
    "dst2 = cv2.normalize(dst2, None, 0, 255, cv2.NORM_MINMAX)\n",
    "\n",
    "cv2.imshow('lap2', lap2)\n",
    "cv2.imshow('dst2', dst2)\n",
    "\n",
    "cv2.waitKey()\n",
    "cv2.destroyAllWindows()"
   ]
  },
  {
   "cell_type": "markdown",
   "id": "fleet-voluntary",
   "metadata": {},
   "source": [
    "# 필터 연산"
   ]
  },
  {
   "cell_type": "code",
   "execution_count": 60,
   "id": "partial-junction",
   "metadata": {},
   "outputs": [
    {
     "name": "stdout",
     "output_type": "stream",
     "text": [
      "kx= [[-1.]\n",
      " [ 0.]\n",
      " [ 1.]]\n",
      "ky= [[1.]\n",
      " [2.]\n",
      " [1.]]\n",
      "sobleX= [[-1.  0.  1.]\n",
      " [-2.  0.  2.]\n",
      " [-1.  0.  1.]]\n",
      "kx= [[1.]\n",
      " [2.]\n",
      " [1.]]\n",
      "ky= [[-1.]\n",
      " [ 0.]\n",
      " [ 1.]]\n",
      "sobleY [[-1. -2. -1.]\n",
      " [ 0.  0.  0.]\n",
      " [ 1.  2.  1.]]\n"
     ]
    }
   ],
   "source": [
    "# filter2D 이용\n",
    "\n",
    "src = cv2.imread('/Users/yongchanchun/Desktop/데스크탑 - MacBook Pro/computer vision/data/lena.jpg', cv2.IMREAD_GRAYSCALE)\n",
    "\n",
    "kx, ky = cv2.getDerivKernels(1, 0, ksize = 3)\n",
    "sobelX = ky.dot(kx.T)\n",
    "\n",
    "print('kx=', kx)\n",
    "print('ky=', ky)\n",
    "print('sobleX=', sobelX)\n",
    "gx = cv2.filter2D(src, cv2.CV_32F, sobelX)\n",
    "\n",
    "kx, ky = cv2.getDerivKernels(0, 1, ksize = 3)\n",
    "sobelY = ky.dot(kx.T)\n",
    "\n",
    "print('kx=', kx)\n",
    "print('ky=', ky)\n",
    "print('sobleY', sobelY)\n",
    "gy = cv2.filter2D(src, cv2.CV_32F, sobelY)\n",
    "\n",
    "mag = cv2.magnitude(gx, gy)\n",
    "ret, edge = cv2.threshold(mag, 100, 255, cv2.THRESH_BINARY)\n",
    "\n",
    "cv2.imshow('edge', edge)\n",
    "\n",
    "cv2.waitKey()\n",
    "cv2.destroyAllWindows()"
   ]
  },
  {
   "cell_type": "code",
   "execution_count": 68,
   "id": "criminal-north",
   "metadata": {},
   "outputs": [
    {
     "name": "stdout",
     "output_type": "stream",
     "text": [
      "sigma = 2.5999999999999996\n",
      "k2 7\n"
     ]
    }
   ],
   "source": [
    "# LOG(Laplacian of Gaussian)\n",
    "\n",
    "src = cv2.imread('/Users/yongchanchun/Desktop/데스크탑 - MacBook Pro/computer vision/data/lena.jpg', cv2.IMREAD_GRAYSCALE)\n",
    "\n",
    "def logFilter(ksize = 7):\n",
    "    k2 = ksize // 2\n",
    "    sigma = 0.3 * (k2-1) + 0.8\n",
    "    print('sigma =', sigma)\n",
    "    LoG = np.zeros((ksize, ksize), dtype = np.float32)\n",
    "    for y in range(-k2, k2+1):\n",
    "        for x in range(-k2, k2+1):\n",
    "            g = -(x * x + y * y) / (2.0 * sigma ** 2)\n",
    "            LoG[y+k2, x+k2] = -(1 + g) * np.exp(g) / (np.pi * sigma ** 4)\n",
    "    print('k2 = ',k2)\n",
    "    return LoG\n",
    "    \n",
    "kernel = logFilter(ksize = 15)\n",
    "LoG = cv2.filter2D(src, cv2.CV_32F, kernel)\n",
    "cv2.imshow('LoG', LoG)\n",
    "kx, ky = cv2.getDerivKernels(1, 0, ksize = 3)\n",
    "sobelX = ky.dot(kx.T)\n",
    "\n",
    "def zeroCrossing2(lap, thresh = 1.0):\n",
    "    h, w = lap.shape\n",
    "    z = np.zeros(lap.shape, dtype = np.uint8)\n",
    "    for y in range(1, h-1):\n",
    "        for x in range(1, w-1):\n",
    "            neighbors = [lap[y-1, x], lap[y+1, x],\n",
    "                        lap[y, x-1], lap[y, x+1],\n",
    "                        lap[y-1, x-1], lap[y-1, x+1],\n",
    "                        lap[y+1, x-1], lap[y+1, x+1]]\n",
    "            pos = 0\n",
    "            neg = 0\n",
    "            for value in neighbors:\n",
    "                if value > thresh:\n",
    "                    pos += 1\n",
    "                if value < -thresh:\n",
    "                    neg += 1\n",
    "            if pos>0 and neg>0:\n",
    "                z[y,x] = 255\n",
    "    return z\n",
    "\n",
    "edgeZ = zeroCrossing2(LoG)\n",
    "cv2.imshow('zero crossing2', edgeZ)\n",
    "cv2.waitKey()\n",
    "cv2.destroyAllWindows()\n"
   ]
  },
  {
   "cell_type": "markdown",
   "id": "devoted-batch",
   "metadata": {},
   "source": [
    "# 모폴로지 연산"
   ]
  },
  {
   "cell_type": "code",
   "execution_count": 69,
   "id": "split-humanitarian",
   "metadata": {},
   "outputs": [],
   "source": [
    "src = cv2.imread('/Users/yongchanchun/Desktop/데스크탑 - MacBook Pro/computer vision/data/morphology.jpg', cv2.IMREAD_GRAYSCALE)\n",
    "kernel = cv2.getStructuringElement(shape = cv2.MORPH_RECT, ksize = (3,3))\n",
    "erode = cv2.erode(src, kernel, iterations = 5)\n",
    "dilate = cv2.dilate(src, kernel, iterations = 5)\n",
    "erode2 = cv2.erode(dilate, kernel, iterations = 7)\n",
    "\n",
    "cv2.imshow('src', src)\n",
    "cv2.imshow('erode', erode)\n",
    "cv2.imshow('dilate', dilate)\n",
    "cv2.imshow('erode2', erode2)\n",
    "cv2.waitKey()\n",
    "cv2.destroyAllWindows()"
   ]
  },
  {
   "cell_type": "code",
   "execution_count": 72,
   "id": "armed-hospital",
   "metadata": {},
   "outputs": [],
   "source": [
    "src = cv2.imread('/Users/yongchanchun/Desktop/데스크탑 - MacBook Pro/computer vision/data/morphology.jpg', cv2.IMREAD_GRAYSCALE)\n",
    "kernel = cv2.getStructuringElement(shape = cv2.MORPH_RECT, ksize=(3,3))\n",
    "closing = cv2.morphologyEx(src, cv2.MORPH_CLOSE, kernel, iterations = 5)\n",
    "opening = cv2.morphologyEx(closing, cv2.MORPH_OPEN, kernel, iterations = 5)\n",
    "gradient = cv2.morphologyEx(opening, cv2.MORPH_GRADIENT, kernel)\n",
    "tophat = cv2.morphologyEx(src, cv2.MORPH_TOPHAT, kernel, iterations = 5)\n",
    "blackhat = cv2.morphologyEx(src, cv2.MORPH_TOPHAT, kernel, iterations = 5)\n",
    "\n",
    "cv2.imshow('opening', opening)\n",
    "cv2.imshow('closing', closing)\n",
    "cv2.imshow('gradient', gradient)\n",
    "cv2.imshow('tophat', tophat)\n",
    "cv2.imshow('blackhat', blackhat)\n",
    "cv2.waitKey()\n",
    "cv2.destroyAllWindows()"
   ]
  },
  {
   "cell_type": "markdown",
   "id": "senior-scheduling",
   "metadata": {},
   "source": [
    "# 탬플릿 매칭 - object detection 의 기본"
   ]
  },
  {
   "cell_type": "code",
   "execution_count": 75,
   "id": "spare-resolution",
   "metadata": {},
   "outputs": [
    {
     "name": "stdout",
     "output_type": "stream",
     "text": [
      "minval, minloc for TM_SQDIFF_NORMED: 3.170866023083363e-07 (40, 40) \n",
      " maxval, maxloc for TM_SQDIFF_NORMED: 1.0 (0, 0)\n",
      "TM_CCORR_NORMED: 1.0 (295, 200)\n",
      "TM_CCORR_NORMED: 0.9566574096679688 (94, 360)\n"
     ]
    }
   ],
   "source": [
    "src = cv2.imread('/Users/yongchanchun/Desktop/데스크탑 - MacBook Pro/computer vision/data/alphabet.bmp', cv2.IMREAD_GRAYSCALE)\n",
    "tmp_A = cv2.imread('/Users/yongchanchun/Desktop/데스크탑 - MacBook Pro/computer vision/data/A.bmp', cv2.IMREAD_GRAYSCALE)\n",
    "tmp_S = cv2.imread('/Users/yongchanchun/Desktop/데스크탑 - MacBook Pro/computer vision/data/S.bmp', cv2.IMREAD_GRAYSCALE)\n",
    "tmp_b = cv2.imread('/Users/yongchanchun/Desktop/데스크탑 - MacBook Pro/computer vision/data/b.bmp', cv2.IMREAD_GRAYSCALE)\n",
    "dst = cv2.cvtColor(src, cv2.COLOR_GRAY2BGR)\n",
    "\n",
    "# TM_SQDIFF_NORMED은 최솟값을 저장\n",
    "R1 = cv2.matchTemplate(src, tmp_A, cv2.TM_SQDIFF_NORMED)\n",
    "minVal, maxVal, minLoc, maxLoc = cv2.minMaxLoc(R1)\n",
    "print('minval, minloc for TM_SQDIFF_NORMED:', minVal, minLoc,\n",
    "      '\\n maxval, maxloc for TM_SQDIFF_NORMED:', maxVal, maxLoc,)\n",
    "h, w = tmp_A.shape[:2]\n",
    "cv2.rectangle(dst, minLoc, (minLoc[0] + w, minLoc[1] + h), (255, 0, 0), 2)\n",
    "\n",
    "# TM_CCORR_NORMED은 최댓값을 저장\n",
    "R2 = cv2.matchTemplate(src, tmp_S, cv2.TM_CCORR_NORMED)\n",
    "minVal, maxVal, minLoc, maxLoc = cv2.minMaxLoc(R2)\n",
    "print('TM_CCORR_NORMED:', maxVal, maxLoc)\n",
    "h, w = tmp_S.shape[:2]\n",
    "cv2.rectangle(dst, maxLoc, (maxLoc[0] + w, maxLoc[1] + h), (0, 255, 0), 2)\n",
    "\n",
    "# TM_CCOEFF_NORMED은 최댓값을 저장\n",
    "R3 = cv2.matchTemplate(src, tmp_b, cv2.TM_CCOEFF_NORMED)\n",
    "minVal, maxVal, minLoc, maxLoc= cv2.minMaxLoc(R3)\n",
    "print('TM_CCORR_NORMED:', maxVal, maxLoc)\n",
    "h, w = tmp_S.shape[:2]\n",
    "cv2.rectangle(dst, maxLoc, (maxLoc[0] + w, maxLoc[1] + h), (0, 0, 255), 2)\n",
    "\n",
    "cv2.imshow('dst', dst)\n",
    "cv2.waitKey()\n",
    "cv2.destroyAllWindows()"
   ]
  },
  {
   "cell_type": "markdown",
   "id": "violent-horizon",
   "metadata": {},
   "source": [
    "# canny 검출"
   ]
  },
  {
   "cell_type": "code",
   "execution_count": 76,
   "id": "partial-niger",
   "metadata": {},
   "outputs": [],
   "source": [
    "src = cv2.imread('/Users/yongchanchun/Desktop/데스크탑 - MacBook Pro/computer vision/data/lena.jpg', cv2.IMREAD_GRAYSCALE)\n",
    "\n",
    "edges1 = cv2.Canny(src, 50, 100)\n",
    "edges2 = cv2.Canny(src, 50, 200)\n",
    "\n",
    "cv2.imshow('edges1:', edges1)\n",
    "cv2.imshow('edges2:', edges2)\n",
    "cv2.waitKey()\n",
    "cv2.destroyAllWindows()"
   ]
  },
  {
   "cell_type": "markdown",
   "id": "ultimate-bennett",
   "metadata": {},
   "source": [
    "# Hough 변환에 의한 직선 및 원 검출"
   ]
  },
  {
   "cell_type": "code",
   "execution_count": 79,
   "id": "southern-taiwan",
   "metadata": {},
   "outputs": [
    {
     "name": "stdout",
     "output_type": "stream",
     "text": [
      "lines.shape = (4, 1, 2)\n"
     ]
    }
   ],
   "source": [
    "src = cv2.imread('/Users/yongchanchun/Desktop/데스크탑 - MacBook Pro/computer vision/data/rectangle.jpg')\n",
    "gray = cv2.cvtColor(src, cv2.COLOR_BGR2GRAY)\n",
    "edges = cv2.Canny(gray, 50, 100)\n",
    "lines = cv2.HoughLines(edges, rho = 1, theta = np.pi/180, threshold = 100)\n",
    "print('lines.shape =', lines.shape)\n",
    "\n",
    "for line in lines:\n",
    "    rho, theta = line[0]\n",
    "    c = np.cos(theta)\n",
    "    s = np.sin(theta)\n",
    "    x0 = c*rho\n",
    "    y0 = s*rho\n",
    "    x1 = int(x0 + 1000 * (-s))\n",
    "    y1 = int(y0 + 1000 * (c))\n",
    "    x2 = int(x0 - 1000 * (-s))\n",
    "    y2 = int(y0 - 1000 * (c))    \n",
    "    cv2.line(src, (x1,y1), (x2,y2), (0, 0, 255), 2)\n",
    "\n",
    "cv2.imshow('edges', edges)\n",
    "cv2.imshow('src', src)\n",
    "cv2.waitKey()\n",
    "cv2.destroyAllWindows()    "
   ]
  },
  {
   "cell_type": "code",
   "execution_count": 81,
   "id": "exotic-change",
   "metadata": {},
   "outputs": [],
   "source": [
    "# HoughLinesP\n",
    "lines = cv2.HoughLinesP(edges, rho = 1, theta = np.pi/180, threshold = 100)\n",
    "\n",
    "for line in lines:\n",
    "    x1, y1, x2, y2 = line[0]\n",
    "    cv2.line(src, (x1, y1), (x2, y2), (0,0,255), 2)\n",
    "\n",
    "cv2.imshow('edges', edges)\n",
    "cv2.imshow('src', src)\n",
    "cv2.waitKey()\n",
    "cv2.destroyAllWindows() "
   ]
  },
  {
   "cell_type": "code",
   "execution_count": 96,
   "id": "rural-struggle",
   "metadata": {},
   "outputs": [
    {
     "name": "stdout",
     "output_type": "stream",
     "text": [
      "circles1.shape= (1, 3, 3)\n",
      "circles2.shape=  (1, 6, 3)\n"
     ]
    }
   ],
   "source": [
    "# HoughCircles\n",
    "src1 = cv2.imread('/Users/yongchanchun/Desktop/데스크탑 - MacBook Pro/computer vision/data/circle2.jpg')\n",
    "gray1 = cv2.cvtColor(src1, cv2.COLOR_BGR2GRAY)\n",
    "circles1 = cv2.HoughCircles(gray1, method = cv2.HOUGH_GRADIENT, dp = 1, minDist = 50, param2 = 15)\n",
    "circles1 = np.int32(circles1)\n",
    "print('circles1.shape=', circles1.shape)\n",
    "for circle in circles1[0,:]:\n",
    "    cx, cy, r = circle\n",
    "    cv2.circle(src1, (cx, cy), r, (0,0,255), 2)\n",
    "\n",
    "src2 = cv2.imread('/Users/yongchanchun/Desktop/데스크탑 - MacBook Pro/computer vision/data/circle.jpg')\n",
    "gray2 = cv2.cvtColor(src2,cv2.COLOR_BGR2GRAY)\n",
    "circles2 = cv2.HoughCircles(gray2,method=cv2.HOUGH_GRADIENT,dp=1,minDist=50,param2=15, minRadius = 10, maxRadius = 100)\n",
    "circles2 = np.int32(circles2)\n",
    "print('circles2.shape= ',circles2.shape)\n",
    "for circle in circles2[0,:]:\n",
    "    cx,cy,r = circle\n",
    "    cv2.circle(src2,(cx,cy),r,(0,0,255),2)\n",
    "\n",
    "cv2.imshow('src1', src1)\n",
    "cv2.imshow('src2', src2)    \n",
    "cv2.waitKey()\n",
    "cv2.destroyAllWindows()"
   ]
  },
  {
   "cell_type": "markdown",
   "id": "elegant-fighter",
   "metadata": {},
   "source": [
    "# 컬러 범위에 의한 영상 분할"
   ]
  },
  {
   "cell_type": "code",
   "execution_count": 97,
   "id": "corrected-settlement",
   "metadata": {},
   "outputs": [
    {
     "data": {
      "image/png": "[encoded data removed]",
      "text/plain": [
       "<Figure size 1440x288 with 2 Axes>"
      ]
     },
     "metadata": {
      "needs_background": "light"
     },
     "output_type": "display_data"
    }
   ],
   "source": [
    "src = cv2.imread('/Users/yongchanchun/Desktop/데스크탑 - MacBook Pro/computer vision/data/hand.jpg')\n",
    "hsv = cv2.cvtColor(src,cv2.COLOR_BGR2HSV)\n",
    "lower = (0,30,0)\n",
    "upper = (150,200,255)\n",
    "dst = cv2.inRange(hsv,lower,upper)\n",
    "\n",
    "src = cv2.cvtColor(src,cv2.COLOR_BGR2RGB)\n",
    "plt.figure(figsize=(20,4))\n",
    "image1=plt.subplot(1,2,1)\n",
    "image1.set_title('Original')\n",
    "plt.axis('off')\n",
    "plt.imshow(src)\n",
    "\n",
    "imgae2=plt.subplot(1,2,2)\n",
    "imgae2.set_title('Detect Hand')\n",
    "plt.axis('off')\n",
    "plt.imshow(dst, cmap=\"gray\")\n",
    "\n",
    "plt.show()"
   ]
  },
  {
   "cell_type": "markdown",
   "id": "amazing-reaction",
   "metadata": {},
   "source": [
    "# 윤곽선 검출 및 그리기"
   ]
  },
  {
   "cell_type": "code",
   "execution_count": 100,
   "id": "bacterial-mattress",
   "metadata": {},
   "outputs": [],
   "source": [
    "src = np.zeros(shape = (512, 512, 3), dtype = np.uint8)\n",
    "src2 = src.copy()\n",
    "gray = []\n",
    "for n,i in enumerate([src, src2]):\n",
    "    cv2.rectangle(i, (50,100), (450,400), (255,255,255), -1)\n",
    "    cv2.rectangle(i, (100,150), (400,350), (0,0,0), -1)\n",
    "    cv2.rectangle(i, (200,200), (300,300), (255,255,255), -1)\n",
    "    gray.append(cv2.cvtColor(i, cv2.COLOR_BGR2GRAY))\n",
    "\n",
    "# mode는 RETR_EXTERNAL\n",
    "mode1 = cv2.RETR_EXTERNAL\n",
    "method = cv2.CHAIN_APPROX_NONE\n",
    "contours, hierarchy = cv2.findContours(gray[0], mode, method)\n",
    "cv2.drawContours(src, contours, -1, (255,0,0), 3)\n",
    "for pt in contours[0][:]:\n",
    "    cv2.circle(src, (pt[0][0], pt[0][1]), 5, (0, 0, 255), -1)\n",
    "\n",
    "# mode는 RETR_LIST    \n",
    "mode2 = cv2.RETR_LIST\n",
    "method2 = cv2.CHAIN_APPROX_SIMPLE\n",
    "contours, hierarchy = cv2.findContours(gray[1], mode2, method2)\n",
    "cv2.drawContours(src2, contours, -1, (255,0,0), 3)\n",
    "\n",
    "for cnt in contours:\n",
    "    cv2.drawContours(src2, [cnt], 0, (255,0,0), 3)\n",
    "    \n",
    "    for pt in cnt:\n",
    "        cv2.circle(src2, (pt[0][0], pt[0][1]), 5, (0, 0, 255), -1)\n",
    "    \n",
    "cv2.imshow('src',src)\n",
    "cv2.imshow('src2',src2)\n",
    "cv2.waitKey()\n",
    "cv2.destroyAllWindows()"
   ]
  },
  {
   "cell_type": "markdown",
   "id": "statutory-medicare",
   "metadata": {},
   "source": [
    "# 영역 채우기, 거리계산, 워터 쉐드\n",
    "\n",
    "#### 영역 채우기: 물체의 내부를 특정 값으로 채움\n",
    "#### 거리계산: 영상 영역에서 내부의 0이 아닌 화소에서 가장 가까운 0인 화소까지의 거리를 계산\n",
    "#### 워터 쉐드: 마커 기반으로 영상을 분리"
   ]
  },
  {
   "cell_type": "code",
   "execution_count": 101,
   "id": "grand-attack",
   "metadata": {},
   "outputs": [
    {
     "name": "stdout",
     "output_type": "stream",
     "text": [
      "rect= (202, 202, 197, 197)\n"
     ]
    }
   ],
   "source": [
    "src = np.zeros((512,512,3),dtype=np.uint8)\n",
    "\n",
    "cv2.rectangle(src,(50,50),(200,200),(0,0,255),2)\n",
    "cv2.circle(src,(300,300),100,(0,0,255),2)\n",
    "\n",
    "dst = src.copy()\n",
    "cv2.floodFill(dst,mask=None,seedPoint=(100,100),newVal=(255,0,0))\n",
    "\n",
    "retval,dst2,mask,rect = cv2.floodFill(dst,mask=None,seedPoint=(300,300),newVal=(0,255,0))\n",
    "\n",
    "print('rect=',rect)\n",
    "x,y,width,height = rect\n",
    "cv2.rectangle(dst2,(x,y),(x+width,y+height),(255,0,0),2)\n",
    "\n",
    "cv2.imshow('src',src)\n",
    "cv2.imshow('dst',dst)\n",
    "cv2.waitKey()\n",
    "cv2.destroyAllWindows()"
   ]
  },
  {
   "cell_type": "code",
   "execution_count": 102,
   "id": "advisory-diagnosis",
   "metadata": {},
   "outputs": [
    {
     "name": "stdout",
     "output_type": "stream",
     "text": [
      "src: 0.0 51.0 (0, 0) (100, 250)\n",
      "src: 0.0 8.0 (0, 0) (52, 200)\n"
     ]
    }
   ],
   "source": [
    "src = np.zeros((512,512),dtype=np.uint8)\n",
    "\n",
    "cv2.rectangle(src,(50,200),(450,300),(255,255,255),-1)\n",
    "\n",
    "dist = cv2.distanceTransform(src,distanceType=cv2.DIST_L1,maskSize=3)\n",
    "minVal,maxVal,minLoc,maxLoc = cv2.minMaxLoc(dist)\n",
    "print('src:',minVal,maxVal,minLoc,maxLoc)\n",
    "\n",
    "dst = cv2.normalize(dist,None,0,255,cv2.NORM_MINMAX,dtype=cv2.CV_8U)\n",
    "ret,dst2 = cv2.threshold(dist,maxVal-1,255,cv2.THRESH_BINARY)\n",
    "\n",
    "gx = cv2.Sobel(dist,cv2.CV_32F,1,0,ksize=3)\n",
    "gy = cv2.Sobel(dist,cv2.CV_32F,0,1,ksize=3)\n",
    "mag = cv2.magnitude(gx,gy)\n",
    "\n",
    "minVal,maxVal,minLoc,maxLoc = cv2.minMaxLoc(mag)\n",
    "print('src:',minVal,maxVal,minLoc,maxLoc)\n",
    "ret,dst3 = cv2.threshold(mag,maxVal-1,255,cv2.THRESH_BINARY_INV)\n",
    "\n",
    "# dst: dist를 Normalization을 통해 선명하게 출력\n",
    "# dst2: cv2.threshold()을 통하여 최대값만 출력\n",
    "# dst3: dist의 edge출력 후 threshold를 통하여 최대값만 출력\n",
    "\n",
    "cv2.imshow('src',src)\n",
    "cv2.imshow('dst',dst)\n",
    "cv2.imshow('dst2',dst2)\n",
    "cv2.imshow('dst3',dst3)\n",
    "cv2.waitKey()\n",
    "cv2.destroyAllWindows()"
   ]
  },
  {
   "cell_type": "code",
   "execution_count": 110,
   "id": "disturbed-objective",
   "metadata": {},
   "outputs": [
    {
     "name": "stdout",
     "output_type": "stream",
     "text": [
      "len(contours)= 1\n",
      "len(contours)= 1\n",
      "len(contours)= 1\n",
      "len(contours)= 1\n",
      "len(contours)= 1\n",
      "len(contours)= 1\n"
     ]
    }
   ],
   "source": [
    "src = cv2.imread('/Users/yongchanchun/Desktop/데스크탑 - MacBook Pro/computer vision/data/hand.jpg')\n",
    "mask = np.zeros(shape = src.shape[:2], dtype = np.uint8)\n",
    "markers = np.zeros(shape = src.shape[:2], dtype = np.int32)\n",
    "dst = src.copy()\n",
    "cv2.imshow('dst',dst)\n",
    "\n",
    "def onMouse(event, x, y, flags, param):\n",
    "    if event == cv2.EVENT_MOUSEMOVE:\n",
    "        if flags & cv2.EVENT_FLAG_LBUTTON:\n",
    "            cv2.circle(param[0], (x,y), 10, (255,255,255), -1)\n",
    "            cv2.circle(param[1], (x,y), 10, (255,255,255), -1)\n",
    "    cv2.imshow('dst',param[1])\n",
    "\n",
    "mode = cv2.RETR_EXTERNAL\n",
    "method = cv2.CHAIN_APPROX_NONE\n",
    "while True:\n",
    "    cv2.setMouseCallback('dst', onMouse, [mask, dst])\n",
    "    key = cv2.waitKey(30)\n",
    "    \n",
    "    if key == 0x1B:\n",
    "        break\n",
    "    elif key == ord('r'):\n",
    "        mask[:,:] = 0\n",
    "        dst = src.copy()\n",
    "        cv2.imshow('dst',dst)\n",
    "    elif key == ord(' '):\n",
    "        contours, hierarchy = cv2.findContours(mask, mode, method)\n",
    "        print('len(contours)=', len(contours))\n",
    "        markers[:,:] = 0\n",
    "        for i, cnt in enumerate(contours):\n",
    "            cv2.drawContours(markers,[cnt],0,i+1,-1)\n",
    "        cv2.watershed(src, markers)\n",
    "        dst = src.copy()\n",
    "        dst[markers == -1] = [0, 0, 255]\n",
    "        for i in range(len(contours)):\n",
    "            r = np.random.randint(256)\n",
    "            g = np.random.randint(256)\n",
    "            b = np.random.randint(256)\n",
    "            dst[markers == -1] = [b,g,r]\n",
    "           \n",
    "        dst = cv2.addWeighted(src,0.4,dst,0.6,0)\n",
    "        cv2.imshow('dst', dst)\n",
    "        \n",
    "cv2.destroyAllWindows()\n",
    "    "
   ]
  },
  {
   "cell_type": "markdown",
   "id": "desperate-measure",
   "metadata": {},
   "source": [
    "# 피라미드 기반 분할\n",
    "#### 영상처리에 있어서 여러 스케일에 걸쳐 피라미드를 생성하여 처리를 하게 되면 물체를 비교하거나 매칭에 용이하게 쓸 수 있다. 예를들어 Object Detection에서 다른 스케일에서 동일한 객체인지 판단할 경우에 사용된다. 이러한 Image Pyramid는 (1)Gaussian Pyramids 와 (2) Laplacian Pyramids로 구분된다."
   ]
  },
  {
   "cell_type": "code",
   "execution_count": 111,
   "id": "saving-spoke",
   "metadata": {},
   "outputs": [],
   "source": [
    "def floodFillPostProcess(src,diff=(2,2,2)):\n",
    "    img = src.copy()\n",
    "    rows,cols = img.shape[:2]\n",
    "    mask = np.zeros(shape=(rows+2,cols+2),dtype=np.uint8)\n",
    "    for y in range(rows):\n",
    "        for x in range(cols):\n",
    "            if mask[y+1,x+1] == 0:\n",
    "                r = np.random.randint(256)\n",
    "                g = np.random.randint(256)\n",
    "                b = np.random.randint(256)\n",
    "                cv2.floodFill(img,mask,(x,y),(b,g,r),diff,diff)\n",
    "    return img\n",
    "\n",
    "src = cv2.imread('/Users/yongchanchun/Desktop/데스크탑 - MacBook Pro/computer vision/data/flower.jpg')\n",
    "hsv = cv2.cvtColor(src,cv2.COLOR_BGR2HSV)\n",
    "dst = floodFillPostProcess(src)\n",
    "dst2 = floodFillPostProcess(hsv)\n",
    "cv2.imshow('src', src)\n",
    "cv2.imshow('hsv',hsv)\n",
    "cv2.imshow('dst',dst)\n",
    "cv2.imshow('dst2',dst2)\n",
    "\n",
    "res = cv2.pyrMeanShiftFiltering(src, sp = 5, sr = 20, maxLevel = 4)\n",
    "dst3 = floodFillPostProcess(res)\n",
    "\n",
    "term_crit = (cv2.TERM_CRITERIA_EPS + cv2.TERM_CRITERIA_MAX_ITER, 10, 2)\n",
    "res2 = cv2.pyrMeanShiftFiltering(hsv, sp = 5, sr = 20, maxLevel = 4, termcrit = term_crit)\n",
    "dst4 = floodFillPostProcess(res2)\n",
    "\n",
    "cv2.imshow('res', res)\n",
    "cv2.imshow('res2',res2)\n",
    "cv2.imshow('dst3',dst3)\n",
    "cv2.imshow('dst4',dst4)\n",
    "cv2.waitKey()\n",
    "cv2.destroyAllWindows()"
   ]
  },
  {
   "cell_type": "markdown",
   "id": "adaptive-works",
   "metadata": {},
   "source": [
    "# K 평균 클러스터링"
   ]
  },
  {
   "cell_type": "code",
   "execution_count": 124,
   "id": "vanilla-weapon",
   "metadata": {},
   "outputs": [],
   "source": [
    "src = cv2.imread('/Users/yongchanchun/Desktop/데스크탑 - MacBook Pro/computer vision/data/hand.jpg')\n",
    "src2 = cv2.imread('/Users/yongchanchun/Desktop/데스크탑 - MacBook Pro/computer vision/data/flower.jpg')\n",
    "\n",
    "hsv1 = cv2.cvtColor(src1,cv2.COLOR_BGR2HSV)\n",
    "hsv2 = cv2.cvtColor(src2,cv2.COLOR_BGR2HSV)\n",
    "\n",
    "data1 = src1.reshape((-1,3)).astype(np.float32)\n",
    "data2 = src2.reshape((-1,3)).astype(np.float32)\n",
    "\n",
    "data3 = hsv1.reshape((-1,3)).astype(np.float32)\n",
    "data4 = hsv2.reshape((-1,3)).astype(np.float32)\n",
    "\n",
    "K = 3\n",
    "term_crit = (cv2.TERM_CRITERIA_EPS+cv2.TERM_CRITERIA_MAX_ITER,10,1.0)\n",
    "\n",
    "ret1,labels1,centers1 = cv2.kmeans(data1,K,None,term_crit,5,cv2.KMEANS_RANDOM_CENTERS)\n",
    "ret2,labels2,centers2 = cv2.kmeans(data2,K,None,term_crit,5,cv2.KMEANS_RANDOM_CENTERS)\n",
    "ret3,labels3,centers3 = cv2.kmeans(data3,K,None,term_crit,5,cv2.KMEANS_RANDOM_CENTERS)\n",
    "ret4,labels4,centers4 = cv2.kmeans(data4,K,None,term_crit,5,cv2.KMEANS_RANDOM_CENTERS)\n",
    "\n",
    "centers1 = np.uint8(centers1)\n",
    "res1 = centers1[labels1.flatten()]\n",
    "bgr1 = res1.reshape(src1.shape)\n",
    "\n",
    "centers2 = np.uint8(centers2)\n",
    "res2 = centers2[labels2.flatten()]\n",
    "bgr2 = res2.reshape(src2.shape)\n",
    "\n",
    "centers3 = np.uint8(centers3)\n",
    "res3 = centers3[labels3.flatten()]\n",
    "bgr3 = res3.reshape(hsv1.shape)\n",
    "\n",
    "centers4 = np.uint8(centers4)\n",
    "res4 = centers4[labels4.flatten()]\n",
    "bgr4 = res4.reshape(hsv2.shape)\n",
    "\n",
    "cv2.imshow('bgr',bgr1)\n",
    "cv2.imshow('bgr2',bgr2)\n",
    "cv2.imshow('bgr3',bgr3)\n",
    "cv2.imshow('bgr4',bgr4)\n",
    "cv2.waitKey()\n",
    "cv2.destroyAllWindows()"
   ]
  },
  {
   "cell_type": "markdown",
   "id": "upper-overhead",
   "metadata": {},
   "source": [
    "# 연결 요소 검출"
   ]
  },
  {
   "cell_type": "code",
   "execution_count": 121,
   "id": "abstract-poker",
   "metadata": {},
   "outputs": [
    {
     "name": "stdout",
     "output_type": "stream",
     "text": [
      "ret= 4\n",
      "labels.shape= (512, 512)\n"
     ]
    }
   ],
   "source": [
    "src = cv2.imread('/Users/yongchanchun/Desktop/데스크탑 - MacBook Pro/computer vision/data/circle2.jpg')\n",
    "gray = cv2.cvtColor(src,cv2.COLOR_BGR2GRAY)\n",
    "ret,res = cv2.threshold(gray,128,255,cv2.THRESH_BINARY_INV)\n",
    "\n",
    "ret,labels = cv2.connectedComponents(res)\n",
    "print('ret=',ret)\n",
    "print('labels.shape=', labels.shape)\n",
    "\n",
    "dst = np.zeros(src.shape,dtype=src.dtype)\n",
    "\n",
    "for i in range(1,ret):\n",
    "    r = np.random.randint(256)\n",
    "    g = np.random.randint(256)\n",
    "    b = np.random.randint(256)\n",
    "    dst[labels == i] = [b,g,r]\n",
    "\n",
    "cv2.imshow('res',res)\n",
    "cv2.imshow('dst',dst)\n",
    "cv2.waitKey()\n",
    "cv2.destroyAllWindows()    "
   ]
  },
  {
   "cell_type": "code",
   "execution_count": 123,
   "id": "suburban-bermuda",
   "metadata": {},
   "outputs": [
    {
     "name": "stdout",
     "output_type": "stream",
     "text": [
      "ret= 4\n",
      "stats= [[     0      0    512    512 245213]\n",
      " [    70    170     61     61   2821]\n",
      " [   120    220     61     61   2821]\n",
      " [    20    340    121    121  11289]]\n",
      "centroids [[266.58220404 249.54933874]\n",
      " [100.         200.        ]\n",
      " [150.         250.        ]\n",
      " [ 80.         400.        ]]\n"
     ]
    }
   ],
   "source": [
    "src = cv2.imread('/Users/yongchanchun/Desktop/데스크탑 - MacBook Pro/computer vision/data/circle2.jpg')\n",
    "gray = cv2.cvtColor(src,cv2.COLOR_BGR2GRAY)\n",
    "ret,res = cv2.threshold(gray,128,255,cv2.THRESH_BINARY_INV)\n",
    "\n",
    "ret,labels,stats,centroids = cv2.connectedComponentsWithStats(res)\n",
    "\n",
    "print('ret=',ret)\n",
    "print('stats=',stats)\n",
    "print('centroids',centroids)\n",
    "\n",
    "dst = np.zeros(src.shape,dtype=src.dtype)\n",
    "\n",
    "for i in range(1,int(ret)):\n",
    "    r = np.random.randint(256)\n",
    "    g = np.random.randint(256)\n",
    "    b = np.random.randint(256)\n",
    "    dst[labels == i] = [b,g,r]\n",
    "\n",
    "for i in range(1,int(ret)):\n",
    "    x,y,width,height,area = stats[i]\n",
    "    cv2.rectangle(dst,(x,y),(x+width,y+height),(0,0,255),2)\n",
    "    cx,cy = centroids[i]\n",
    "    cv2.circle(dst,(int(cx),int(cy)),5,(255,0,0),-1)\n",
    "\n",
    "cv2.imshow('src',src)\n",
    "cv2.imshow('dst',dst)\n",
    "cv2.waitKey()\n",
    "cv2.destroyAllWindows()     "
   ]
  },
  {
   "cell_type": "code",
   "execution_count": null,
   "id": "general-equilibrium",
   "metadata": {},
   "outputs": [],
   "source": []
  }
 ],
 "metadata": {
  "kernelspec": {
   "display_name": "Python 3",
   "language": "python",
   "name": "python3"
  },
  "language_info": {
   "codemirror_mode": {
    "name": "ipython",
    "version": 3
   },
   "file_extension": ".py",
   "mimetype": "text/x-python",
   "name": "python",
   "nbconvert_exporter": "python",
   "pygments_lexer": "ipython3",
   "version": "3.8.5"
  }
 },
 "nbformat": 4,
 "nbformat_minor": 5
}
